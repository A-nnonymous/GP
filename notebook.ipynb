{
 "cells": [
  {
   "cell_type": "markdown",
   "id": "convertible-tourism",
   "metadata": {},
   "source": [
    "# 毕业设计：医疗大数据方向——疫苗对疫情的影响与模拟"
   ]
  },
  {
   "cell_type": "markdown",
   "id": "lyric-article",
   "metadata": {},
   "source": [
    "## 一、初步规划\n",
    "     1、2月21——22日进行数据清洗与掌握，疫苗接种大数据检索\n",
    "     2、2月23——25日读论文，复习机器学习知识，试着用matlab作出预测曲线交差\n",
    "     3、～2月末，尝试用元胞自动机方法简单模拟，出结果\n",
    "     4、～3月4日，整理好所有工作环境预备开学"
   ]
  },
  {
   "cell_type": "markdown",
   "id": "sporting-warrant",
   "metadata": {},
   "source": [
    "## 二、日常任务\n",
    "    1、借鉴论文，搜罗代码\n",
    "    2、检索数据、构建工作环境\n",
    "    3、重用已有代码，发挥最高效率"
   ]
  },
  {
   "cell_type": "code",
   "execution_count": null,
   "id": "advance-locator",
   "metadata": {},
   "outputs": [],
   "source": []
  }
 ],
 "metadata": {
  "kernelspec": {
   "display_name": "Python 3",
   "language": "python",
   "name": "python3"
  },
  "language_info": {
   "codemirror_mode": {
    "name": "ipython",
    "version": 3
   },
   "file_extension": ".py",
   "mimetype": "text/x-python",
   "name": "python",
   "nbconvert_exporter": "python",
   "pygments_lexer": "ipython3",
   "version": "3.8.5"
  }
 },
 "nbformat": 4,
 "nbformat_minor": 5
}
