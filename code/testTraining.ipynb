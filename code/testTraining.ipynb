{
 "cells": [
  {
   "cell_type": "markdown",
   "id": "chemical-police",
   "metadata": {},
   "source": [
    "from pyTsetlinMachineParallel.tm import RegressionTsetlinMachine\n",
    "from pyTsetlinMachineParallel.tools import Binarizer\n",
    "import numpy as np\n",
    "from time import time\n",
    "\n",
    "from sklearn import datasets\n",
    "from sklearn.model_selection import train_test_split\n",
    "\n",
    "california_housing = datasets.fetch_california_housing()\n",
    "X = california_housing.data\n",
    "Y = california_housing.target\n",
    "\n",
    "b = Binarizer(max_bits_per_feature = 10)\n",
    "b.fit(X)\n",
    "X_transformed = b.transform(X)\n",
    "\n",
    "tm = RegressionTsetlinMachine(1000, 500*10, 2.75, weighted_clauses=True)\n",
    "\n",
    "print(\"\\nRMSD over 25 runs:\\n\")\n",
    "tm_results = np.empty(0)\n",
    "for i in range(25):\n",
    "\tX_train, X_test, Y_train, Y_test = train_test_split(X_transformed, Y)\n",
    "\n",
    "\tstart = time()\n",
    "\ttm.fit(X_train, Y_train, epochs=30)\n",
    "\tstop = time()\n",
    "\ttm_results = np.append(tm_results, np.sqrt(((tm.predict(X_test) - Y_test)**2).mean()))\n",
    "\n",
    "\tprint(\"#%d RMSD: %.2f +/- %.2f (%.2fs)\" % (i+1, tm_results.mean(), 1.96*tm_results.std()/np.sqrt(i+1), stop-start))\n"
   ]
  },
  {
   "cell_type": "code",
   "execution_count": 2,
   "id": "ready-expert",
   "metadata": {},
   "outputs": [],
   "source": [
    "from pyTsetlinMachineParallel.tm import RegressionTsetlinMachine\n",
    "from pyTsetlinMachineParallel.tools import Binarizer\n",
    "import numpy as np\n",
    "from time import time\n",
    "from sklearn.model_selection import train_test_split"
   ]
  },
  {
   "cell_type": "code",
   "execution_count": null,
   "id": "brief-router",
   "metadata": {},
   "outputs": [],
   "source": []
  }
 ],
 "metadata": {
  "kernelspec": {
   "display_name": "Python 3",
   "language": "python",
   "name": "python3"
  },
  "language_info": {
   "codemirror_mode": {
    "name": "ipython",
    "version": 3
   },
   "file_extension": ".py",
   "mimetype": "text/x-python",
   "name": "python",
   "nbconvert_exporter": "python",
   "pygments_lexer": "ipython3",
   "version": "3.8.5"
  }
 },
 "nbformat": 4,
 "nbformat_minor": 5
}
