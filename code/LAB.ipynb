{
 "cells": [
  {
   "cell_type": "code",
   "execution_count": 1,
   "id": "varied-glossary",
   "metadata": {},
   "outputs": [],
   "source": [
    "import datetime\n",
    "import time"
   ]
  },
  {
   "cell_type": "code",
   "execution_count": 3,
   "id": "accredited-sitting",
   "metadata": {},
   "outputs": [
    {
     "data": {
      "text/plain": [
       "time.struct_time(tm_year=2021, tm_mon=3, tm_mday=13, tm_hour=21, tm_min=5, tm_sec=8, tm_wday=5, tm_yday=72, tm_isdst=0)"
      ]
     },
     "execution_count": 3,
     "metadata": {},
     "output_type": "execute_result"
    }
   ],
   "source": [
    "time.localtime()"
   ]
  },
  {
   "cell_type": "code",
   "execution_count": 5,
   "id": "aware-layout",
   "metadata": {},
   "outputs": [
    {
     "data": {
      "text/plain": [
       "'03-13-2021'"
      ]
     },
     "execution_count": 5,
     "metadata": {},
     "output_type": "execute_result"
    }
   ],
   "source": [
    "time.strftime(\"%m-%d-%Y\", time.localtime()) "
   ]
  },
  {
   "cell_type": "markdown",
   "id": "abroad-harassment",
   "metadata": {},
   "source": [
    "def dateRange(beginDate, endDate):\n",
    "    \"\"\"\n",
    "    Date range generating function.\n",
    "    \"\"\"\n",
    "    dates = []\n",
    "    dt = datetime.datetime.strptime(beginDate, \"%m-%d-%Y\")\n",
    "    date = beginDate[:]\n",
    "    while date <= endDate:     #  wrong\n",
    "        dates.append(date)\n",
    "        dt = dt + datetime.timedelta(1)\n",
    "        date = dt.strftime(\"%m-%d-Y\")\n",
    "    return dates\n",
    "\n",
    "\n",
    "\n",
    "if __name__ == '__main__':\n",
    "    DataPath = \"../../data/csse_covid_19_data/\"\n",
    "    SeriesDataPath = \"csse_covid_19_time_series/\"\n",
    "    DailyPath = \"csse_covid_19_daily_reports_us/\"\n",
    "\n",
    "    open(DataPath + DailyPath + \"02-12-2021.csv\", 'r')\n",
    "\n",
    "    #(YYYYnow, MMnow, DDnow) = (time.localtime()[0], time.localtime()[1], time.localtime()[2])\n",
    "    now=time.strftime(\"%m-%d-%Y\", time.localtime())\n",
    "    # Get present time string\n",
    "    for date in dateRange('04-12-2020', now):\n",
    "        print (date)"
   ]
  },
  {
   "cell_type": "code",
   "execution_count": 6,
   "id": "elder-monthly",
   "metadata": {},
   "outputs": [],
   "source": [
    "beginDate=\"04-12-2020\"\n",
    "dt = datetime.datetime.strptime(beginDate, \"%m-%d-%Y\")"
   ]
  },
  {
   "cell_type": "code",
   "execution_count": 10,
   "id": "seeing-excerpt",
   "metadata": {},
   "outputs": [],
   "source": [
    "endDate=time.strftime(\"%m-%d-%Y\", time.localtime()) "
   ]
  },
  {
   "cell_type": "code",
   "execution_count": 17,
   "id": "charming-signal",
   "metadata": {},
   "outputs": [
    {
     "ename": "ValueError",
     "evalue": "Month out of range in datetime string \"03-24-2020\"",
     "output_type": "error",
     "traceback": [
      "\u001b[0;31m---------------------------------------------------------------------------\u001b[0m",
      "\u001b[0;31mValueError\u001b[0m                                Traceback (most recent call last)",
      "\u001b[0;32m<ipython-input-17-4c6ce5fc26bb>\u001b[0m in \u001b[0;36m<module>\u001b[0;34m\u001b[0m\n\u001b[1;32m      1\u001b[0m \u001b[0;32mimport\u001b[0m \u001b[0mnumpy\u001b[0m \u001b[0;32mas\u001b[0m \u001b[0mnp\u001b[0m\u001b[0;34m\u001b[0m\u001b[0;34m\u001b[0m\u001b[0m\n\u001b[1;32m      2\u001b[0m \u001b[0;34m\u001b[0m\u001b[0m\n\u001b[0;32m----> 3\u001b[0;31m \u001b[0ma\u001b[0m \u001b[0;34m=\u001b[0m \u001b[0mnp\u001b[0m\u001b[0;34m.\u001b[0m\u001b[0marange\u001b[0m\u001b[0;34m(\u001b[0m\u001b[0;34m'03-24-2020'\u001b[0m\u001b[0;34m,\u001b[0m \u001b[0;34m'03-30-2020'\u001b[0m\u001b[0;34m,\u001b[0m \u001b[0mdtype\u001b[0m \u001b[0;34m=\u001b[0m \u001b[0mnp\u001b[0m\u001b[0;34m.\u001b[0m\u001b[0mdatetime64\u001b[0m\u001b[0;34m)\u001b[0m\u001b[0;34m\u001b[0m\u001b[0;34m\u001b[0m\u001b[0m\n\u001b[0m\u001b[1;32m      4\u001b[0m \u001b[0mprint\u001b[0m\u001b[0;34m(\u001b[0m\u001b[0ma\u001b[0m\u001b[0;34m,\u001b[0m \u001b[0ma\u001b[0m\u001b[0;34m.\u001b[0m\u001b[0mdtype\u001b[0m\u001b[0;34m)\u001b[0m\u001b[0;34m\u001b[0m\u001b[0;34m\u001b[0m\u001b[0m\n",
      "\u001b[0;31mValueError\u001b[0m: Month out of range in datetime string \"03-24-2020\""
     ]
    }
   ],
   "source": [
    "import numpy as np\n",
    "\n",
    "a = np.arange('03-24-2020', '03-30-2020', dtype = np.datetime64)\n",
    "print(a, a.dtype)"
   ]
  },
  {
   "cell_type": "code",
   "execution_count": 18,
   "id": "auburn-symbol",
   "metadata": {},
   "outputs": [],
   "source": [
    "te='2020-04-12'"
   ]
  },
  {
   "cell_type": "code",
   "execution_count": 19,
   "id": "champion-bandwidth",
   "metadata": {},
   "outputs": [
    {
     "data": {
      "text/plain": [
       "'202'"
      ]
     },
     "execution_count": 19,
     "metadata": {},
     "output_type": "execute_result"
    }
   ],
   "source": [
    "te[0:3]"
   ]
  },
  {
   "cell_type": "code",
   "execution_count": null,
   "id": "immune-handy",
   "metadata": {},
   "outputs": [],
   "source": []
  }
 ],
 "metadata": {
  "kernelspec": {
   "display_name": "Python 3",
   "language": "python",
   "name": "python3"
  },
  "language_info": {
   "codemirror_mode": {
    "name": "ipython",
    "version": 3
   },
   "file_extension": ".py",
   "mimetype": "text/x-python",
   "name": "python",
   "nbconvert_exporter": "python",
   "pygments_lexer": "ipython3",
   "version": "3.8.5"
  }
 },
 "nbformat": 4,
 "nbformat_minor": 5
}
