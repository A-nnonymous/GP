{
 "cells": [
  {
   "cell_type": "code",
   "execution_count": 5,
   "id": "endangered-stadium",
   "metadata": {},
   "outputs": [
    {
     "name": "stdout",
     "output_type": "stream",
     "text": [
      "RMSD: 1337.85 \n"
     ]
    }
   ],
   "source": [
    "from PyTsetlinMachineCUDA.tm import RegressionTsetlinMachine\n",
    "from PyTsetlinMachineCUDA.tools import Booleanizer\n",
    "import numpy as np\n",
    "from time import time\n",
    "from sklearn.model_selection import train_test_split\n",
    "import pandas as pd\n",
    "import numpy as np\n",
    "\n",
    "f1=open(\"../dataPool/win/data.csv\",\"r\")\n",
    "data=pd.read_csv(f1)[['people_vaccinated_per_hundred',\n",
    "          'people_fully_vaccinated_per_hundred',\n",
    "          'people_vaccinated',\n",
    "          'confirmed']].to_numpy()\n",
    "f2=open(\"../dataPool/win/death.csv\",\"r\")\n",
    "target=pd.read_csv(f2).to_numpy().flatten()\n",
    "\n",
    "X = data\n",
    "Y =target\n",
    "\n",
    "b = Booleanizer(max_bits_per_feature = 10)\n",
    "b.fit(X)\n",
    "X_transformed = b.transform(X)\n",
    "\n",
    "tm = RegressionTsetlinMachine(8000, 4000,15,max_weight=4)\n",
    "X_train, X_test, Y_train, Y_test = train_test_split(X_transformed, Y)\n",
    "tm_results = np.empty(0)\n",
    "\n",
    "for i in range(100):\n",
    "    tm.fit(X_train, Y_train, epochs=i)\n",
    "    tm_results = np.append(tm_results, np.sqrt(((tm.predict(X_test) - Y_test)**2).mean()))\n",
    "output=pd.DataFrame(tm_results,columns=[\"rmsd\"])\n",
    "output.to_csv(\"rmsd_series.csv\")\n",
    "#out=pd.DataFrame(tm.predict(X)).to_csv(\"output.csv\")\n",
    "print(\"RMSD: %.2f \" % (np.sqrt(((tm.predict(X_test) - Y_test)**2).mean())))\n"
   ]
  },
  {
   "cell_type": "code",
   "execution_count": 72,
   "id": "specified-place",
   "metadata": {},
   "outputs": [
    {
     "name": "stdout",
     "output_type": "stream",
     "text": [
      "\n",
      "Class 0 Positive Clauses:\n",
      "\n"
     ]
    }
   ],
   "source": [
    "number_of_features=40\n",
    "TA=pd.DataFrame(np.zeros((8000,80)))\n",
    "for j in range(8000):\n",
    "    for k in range(number_of_features*2):\n",
    "        if tm.ta_action(0, j, k): c0.iloc[j,k]=tm.ta_action(0, j, k)\n",
    "TA.to_csv(\"../TA.csv\")"
   ]
  },
  {
   "cell_type": "code",
   "execution_count": 66,
   "id": "central-assistant",
   "metadata": {},
   "outputs": [],
   "source": []
  },
  {
   "cell_type": "code",
   "execution_count": null,
   "id": "overhead-layout",
   "metadata": {},
   "outputs": [],
   "source": []
  }
 ],
 "metadata": {
  "kernelspec": {
   "display_name": "Python 3",
   "language": "python",
   "name": "python3"
  },
  "language_info": {
   "codemirror_mode": {
    "name": "ipython",
    "version": 3
   },
   "file_extension": ".py",
   "mimetype": "text/x-python",
   "name": "python",
   "nbconvert_exporter": "python",
   "pygments_lexer": "ipython3",
   "version": "3.8.5"
  }
 },
 "nbformat": 4,
 "nbformat_minor": 5
}
