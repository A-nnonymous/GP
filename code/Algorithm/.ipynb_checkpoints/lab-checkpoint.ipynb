{
 "cells": [
  {
   "cell_type": "code",
   "execution_count": 1,
   "id": "sporting-costa",
   "metadata": {},
   "outputs": [],
   "source": [
    "import numpy as np\n",
    "import pandas as pd\n",
    "from PreProUtil import *"
   ]
  },
  {
   "cell_type": "code",
   "execution_count": 2,
   "id": "distinguished-window",
   "metadata": {},
   "outputs": [],
   "source": [
    "global DailyNum\n",
    "DailyNum=10"
   ]
  },
  {
   "cell_type": "code",
   "execution_count": 4,
   "id": "english-accountability",
   "metadata": {},
   "outputs": [
    {
     "ename": "TypeError",
     "evalue": "DateStartFrom() takes 1 positional argument but 2 were given",
     "output_type": "error",
     "traceback": [
      "\u001b[0;31m---------------------------------------------------------------------------\u001b[0m",
      "\u001b[0;31mTypeError\u001b[0m                                 Traceback (most recent call last)",
      "\u001b[0;32m<ipython-input-4-c5d00fb0d0ad>\u001b[0m in \u001b[0;36m<module>\u001b[0;34m\u001b[0m\n\u001b[0;32m----> 1\u001b[0;31m \u001b[0ma\u001b[0m\u001b[0;34m=\u001b[0m\u001b[0mDateStartFrom\u001b[0m\u001b[0;34m(\u001b[0m\u001b[0;34m\"2021-04-12\"\u001b[0m\u001b[0;34m,\u001b[0m\u001b[0;36m10\u001b[0m\u001b[0;34m)\u001b[0m\u001b[0;34m\u001b[0m\u001b[0;34m\u001b[0m\u001b[0m\n\u001b[0m",
      "\u001b[0;31mTypeError\u001b[0m: DateStartFrom() takes 1 positional argument but 2 were given"
     ]
    }
   ],
   "source": [
    "a=DateStartFrom(\"2021-04-12\",10)"
   ]
  },
  {
   "cell_type": "code",
   "execution_count": null,
   "id": "infectious-weapon",
   "metadata": {},
   "outputs": [],
   "source": []
  }
 ],
 "metadata": {
  "kernelspec": {
   "display_name": "Python 3",
   "language": "python",
   "name": "python3"
  },
  "language_info": {
   "codemirror_mode": {
    "name": "ipython",
    "version": 3
   },
   "file_extension": ".py",
   "mimetype": "text/x-python",
   "name": "python",
   "nbconvert_exporter": "python",
   "pygments_lexer": "ipython3",
   "version": "3.8.5"
  }
 },
 "nbformat": 4,
 "nbformat_minor": 5
}
